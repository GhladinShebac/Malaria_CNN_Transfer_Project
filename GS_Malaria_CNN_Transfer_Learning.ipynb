{
  "nbformat": 4,
  "nbformat_minor": 0,
  "metadata": {
    "kernelspec": {
      "display_name": "Python 3",
      "language": "python",
      "name": "python3"
    },
    "language_info": {
      "codemirror_mode": {
        "name": "ipython",
        "version": 3
      },
      "file_extension": ".py",
      "mimetype": "text/x-python",
      "name": "python",
      "nbconvert_exporter": "python",
      "pygments_lexer": "ipython3",
      "version": "3.7.4"
    },
    "colab": {
      "name": "GS_Malaria_CNN_Transfer_Learning.ipynb",
      "provenance": [],
      "collapsed_sections": []
    }
  },
  "cells": [
    {
      "cell_type": "markdown",
      "metadata": {
        "id": "R36OAwZnNr8m"
      },
      "source": [
        "## Creating CNN Using Scratch And Transfer Learning"
      ]
    },
    {
      "cell_type": "code",
      "metadata": {
        "id": "KnWbMNZ8Nr8r"
      },
      "source": [
        "# import the libraries as shown below\n",
        "\n",
        "from tensorflow.keras.layers import Input, Lambda, Dense, Flatten,Conv2D\n",
        "from tensorflow.keras.models import Model\n",
        "from tensorflow.keras.applications.vgg19 import VGG19\n",
        "from tensorflow.keras.applications.resnet50 import preprocess_input\n",
        "from tensorflow.keras.preprocessing import image\n",
        "from tensorflow.keras.preprocessing.image import ImageDataGenerator,load_img\n",
        "from tensorflow.keras.models import Sequential\n",
        "import numpy as np\n",
        "from glob import glob\n",
        "import matplotlib.pyplot as plt"
      ],
      "execution_count": 69,
      "outputs": []
    },
    {
      "cell_type": "code",
      "metadata": {
        "colab": {
          "base_uri": "https://localhost:8080/"
        },
        "id": "NvRhf-JwOVjn",
        "outputId": "d05379c6-c11d-4a49-8167-5d4943cc5b68"
      },
      "source": [
        "import tensorflow as tf\n",
        "print(tf.__version__)"
      ],
      "execution_count": 70,
      "outputs": [
        {
          "output_type": "stream",
          "text": [
            "2.5.0\n"
          ],
          "name": "stdout"
        }
      ]
    },
    {
      "cell_type": "code",
      "metadata": {
        "id": "B9NMMypmNr8t"
      },
      "source": [
        "# re-size all the images to this\n",
        "IMAGE_SIZE = [224, 224]\n",
        "\n",
        "train_path = 'cell_images/Train'\n",
        "valid_path = 'cell_images/Test'\n"
      ],
      "execution_count": 71,
      "outputs": []
    },
    {
      "cell_type": "code",
      "metadata": {
        "colab": {
          "base_uri": "https://localhost:8080/"
        },
        "id": "5Hqml-f1Npst",
        "outputId": "2af7d041-6d63-40b0-e667-4ba90e51bcb8"
      },
      "source": [
        "from google.colab import drive\n",
        "drive.mount('/content/drive')"
      ],
      "execution_count": 72,
      "outputs": [
        {
          "output_type": "stream",
          "text": [
            "Drive already mounted at /content/drive; to attempt to forcibly remount, call drive.mount(\"/content/drive\", force_remount=True).\n"
          ],
          "name": "stdout"
        }
      ]
    },
    {
      "cell_type": "code",
      "metadata": {
        "id": "mdZQRKqaNr8t"
      },
      "source": [
        "# Import the Vgg 16 library as shown below and add preprocessing layer to the front of VGG\n",
        "# Here we will be using imagenet weights\n",
        "\n",
        "VGG19 = VGG19(input_shape=IMAGE_SIZE + [3], weights='imagenet', include_top=False)\n",
        "\n"
      ],
      "execution_count": 73,
      "outputs": []
    },
    {
      "cell_type": "code",
      "metadata": {
        "colab": {
          "base_uri": "https://localhost:8080/"
        },
        "id": "cqh7fCpxTlJQ",
        "outputId": "e1f41d39-aae0-456b-c261-4444ae5db391"
      },
      "source": [
        "VGG19.summary()"
      ],
      "execution_count": 74,
      "outputs": [
        {
          "output_type": "stream",
          "text": [
            "Model: \"vgg19\"\n",
            "_________________________________________________________________\n",
            "Layer (type)                 Output Shape              Param #   \n",
            "=================================================================\n",
            "input_4 (InputLayer)         [(None, 224, 224, 3)]     0         \n",
            "_________________________________________________________________\n",
            "block1_conv1 (Conv2D)        (None, 224, 224, 64)      1792      \n",
            "_________________________________________________________________\n",
            "block1_conv2 (Conv2D)        (None, 224, 224, 64)      36928     \n",
            "_________________________________________________________________\n",
            "block1_pool (MaxPooling2D)   (None, 112, 112, 64)      0         \n",
            "_________________________________________________________________\n",
            "block2_conv1 (Conv2D)        (None, 112, 112, 128)     73856     \n",
            "_________________________________________________________________\n",
            "block2_conv2 (Conv2D)        (None, 112, 112, 128)     147584    \n",
            "_________________________________________________________________\n",
            "block2_pool (MaxPooling2D)   (None, 56, 56, 128)       0         \n",
            "_________________________________________________________________\n",
            "block3_conv1 (Conv2D)        (None, 56, 56, 256)       295168    \n",
            "_________________________________________________________________\n",
            "block3_conv2 (Conv2D)        (None, 56, 56, 256)       590080    \n",
            "_________________________________________________________________\n",
            "block3_conv3 (Conv2D)        (None, 56, 56, 256)       590080    \n",
            "_________________________________________________________________\n",
            "block3_conv4 (Conv2D)        (None, 56, 56, 256)       590080    \n",
            "_________________________________________________________________\n",
            "block3_pool (MaxPooling2D)   (None, 28, 28, 256)       0         \n",
            "_________________________________________________________________\n",
            "block4_conv1 (Conv2D)        (None, 28, 28, 512)       1180160   \n",
            "_________________________________________________________________\n",
            "block4_conv2 (Conv2D)        (None, 28, 28, 512)       2359808   \n",
            "_________________________________________________________________\n",
            "block4_conv3 (Conv2D)        (None, 28, 28, 512)       2359808   \n",
            "_________________________________________________________________\n",
            "block4_conv4 (Conv2D)        (None, 28, 28, 512)       2359808   \n",
            "_________________________________________________________________\n",
            "block4_pool (MaxPooling2D)   (None, 14, 14, 512)       0         \n",
            "_________________________________________________________________\n",
            "block5_conv1 (Conv2D)        (None, 14, 14, 512)       2359808   \n",
            "_________________________________________________________________\n",
            "block5_conv2 (Conv2D)        (None, 14, 14, 512)       2359808   \n",
            "_________________________________________________________________\n",
            "block5_conv3 (Conv2D)        (None, 14, 14, 512)       2359808   \n",
            "_________________________________________________________________\n",
            "block5_conv4 (Conv2D)        (None, 14, 14, 512)       2359808   \n",
            "_________________________________________________________________\n",
            "block5_pool (MaxPooling2D)   (None, 7, 7, 512)         0         \n",
            "=================================================================\n",
            "Total params: 20,024,384\n",
            "Trainable params: 20,024,384\n",
            "Non-trainable params: 0\n",
            "_________________________________________________________________\n"
          ],
          "name": "stdout"
        }
      ]
    },
    {
      "cell_type": "code",
      "metadata": {
        "id": "fkNrFHs2Nr8u"
      },
      "source": [
        "# don't train existing weights\n",
        "for layer in VGG19.layers:\n",
        "    layer.trainable = False"
      ],
      "execution_count": 75,
      "outputs": []
    },
    {
      "cell_type": "code",
      "metadata": {
        "id": "r1EFhzW0Nr8v"
      },
      "source": [
        "  # useful for getting number of output classes\n",
        "folders = glob('/content/drive/MyDrive/Dataset/Train/*')"
      ],
      "execution_count": 76,
      "outputs": []
    },
    {
      "cell_type": "code",
      "metadata": {
        "colab": {
          "base_uri": "https://localhost:8080/"
        },
        "id": "MCpnxkhjNr8w",
        "outputId": "0f535e56-5ecb-4abe-c108-3c684a1e0a81"
      },
      "source": [
        "folders"
      ],
      "execution_count": 77,
      "outputs": [
        {
          "output_type": "execute_result",
          "data": {
            "text/plain": [
              "['/content/drive/MyDrive/Dataset/Train/Parasite',\n",
              " '/content/drive/MyDrive/Dataset/Train/Uninfected']"
            ]
          },
          "metadata": {
            "tags": []
          },
          "execution_count": 77
        }
      ]
    },
    {
      "cell_type": "code",
      "metadata": {
        "id": "vLaWwIltNr8y"
      },
      "source": [
        "# our layers - you can add more if you want\n",
        "x = Flatten()(VGG19.output)"
      ],
      "execution_count": 78,
      "outputs": []
    },
    {
      "cell_type": "code",
      "metadata": {
        "id": "UcG6m0j3Nr80"
      },
      "source": [
        "prediction = Dense(len(folders), activation='softmax')(x)\n",
        "\n",
        "# create a model object\n",
        "model = Model(inputs=VGG19.input, outputs=prediction)"
      ],
      "execution_count": 79,
      "outputs": []
    },
    {
      "cell_type": "code",
      "metadata": {
        "colab": {
          "base_uri": "https://localhost:8080/"
        },
        "id": "_Oe0_I9BNr81",
        "outputId": "4d5da01f-f075-4ce8-ed9d-c1c2e5bcadb0"
      },
      "source": [
        "\n",
        "# view the structure of the model\n",
        "model.summary()\n"
      ],
      "execution_count": 80,
      "outputs": [
        {
          "output_type": "stream",
          "text": [
            "Model: \"model_4\"\n",
            "_________________________________________________________________\n",
            "Layer (type)                 Output Shape              Param #   \n",
            "=================================================================\n",
            "input_4 (InputLayer)         [(None, 224, 224, 3)]     0         \n",
            "_________________________________________________________________\n",
            "block1_conv1 (Conv2D)        (None, 224, 224, 64)      1792      \n",
            "_________________________________________________________________\n",
            "block1_conv2 (Conv2D)        (None, 224, 224, 64)      36928     \n",
            "_________________________________________________________________\n",
            "block1_pool (MaxPooling2D)   (None, 112, 112, 64)      0         \n",
            "_________________________________________________________________\n",
            "block2_conv1 (Conv2D)        (None, 112, 112, 128)     73856     \n",
            "_________________________________________________________________\n",
            "block2_conv2 (Conv2D)        (None, 112, 112, 128)     147584    \n",
            "_________________________________________________________________\n",
            "block2_pool (MaxPooling2D)   (None, 56, 56, 128)       0         \n",
            "_________________________________________________________________\n",
            "block3_conv1 (Conv2D)        (None, 56, 56, 256)       295168    \n",
            "_________________________________________________________________\n",
            "block3_conv2 (Conv2D)        (None, 56, 56, 256)       590080    \n",
            "_________________________________________________________________\n",
            "block3_conv3 (Conv2D)        (None, 56, 56, 256)       590080    \n",
            "_________________________________________________________________\n",
            "block3_conv4 (Conv2D)        (None, 56, 56, 256)       590080    \n",
            "_________________________________________________________________\n",
            "block3_pool (MaxPooling2D)   (None, 28, 28, 256)       0         \n",
            "_________________________________________________________________\n",
            "block4_conv1 (Conv2D)        (None, 28, 28, 512)       1180160   \n",
            "_________________________________________________________________\n",
            "block4_conv2 (Conv2D)        (None, 28, 28, 512)       2359808   \n",
            "_________________________________________________________________\n",
            "block4_conv3 (Conv2D)        (None, 28, 28, 512)       2359808   \n",
            "_________________________________________________________________\n",
            "block4_conv4 (Conv2D)        (None, 28, 28, 512)       2359808   \n",
            "_________________________________________________________________\n",
            "block4_pool (MaxPooling2D)   (None, 14, 14, 512)       0         \n",
            "_________________________________________________________________\n",
            "block5_conv1 (Conv2D)        (None, 14, 14, 512)       2359808   \n",
            "_________________________________________________________________\n",
            "block5_conv2 (Conv2D)        (None, 14, 14, 512)       2359808   \n",
            "_________________________________________________________________\n",
            "block5_conv3 (Conv2D)        (None, 14, 14, 512)       2359808   \n",
            "_________________________________________________________________\n",
            "block5_conv4 (Conv2D)        (None, 14, 14, 512)       2359808   \n",
            "_________________________________________________________________\n",
            "block5_pool (MaxPooling2D)   (None, 7, 7, 512)         0         \n",
            "_________________________________________________________________\n",
            "flatten_10 (Flatten)         (None, 25088)             0         \n",
            "_________________________________________________________________\n",
            "dense_14 (Dense)             (None, 2)                 50178     \n",
            "=================================================================\n",
            "Total params: 20,074,562\n",
            "Trainable params: 50,178\n",
            "Non-trainable params: 20,024,384\n",
            "_________________________________________________________________\n"
          ],
          "name": "stdout"
        }
      ]
    },
    {
      "cell_type": "code",
      "metadata": {
        "id": "8wsDgDmhNr82"
      },
      "source": [
        "from tensorflow.keras.layers import MaxPooling2D"
      ],
      "execution_count": 81,
      "outputs": []
    },
    {
      "cell_type": "code",
      "metadata": {
        "colab": {
          "base_uri": "https://localhost:8080/"
        },
        "id": "d3QI37UQNr83",
        "outputId": "80d23abb-e890-4b71-a489-a1b60c226579"
      },
      "source": [
        "### Create Model from scratch using CNN\n",
        "model=Sequential()\n",
        "model.add(Conv2D(filters=16,kernel_size=2,padding=\"same\",activation=\"relu\",input_shape=(224,224,3)))\n",
        "model.add(MaxPooling2D(pool_size=2))\n",
        "model.add(Conv2D(filters=32,kernel_size=2,padding=\"same\",activation =\"relu\"))\n",
        "model.add(MaxPooling2D(pool_size=2))\n",
        "model.add(Conv2D(filters=64,kernel_size=2,padding=\"same\",activation=\"relu\"))\n",
        "model.add(MaxPooling2D(pool_size=2))\n",
        "model.add(Flatten())\n",
        "model.add(Dense(500,activation=\"relu\"))\n",
        "model.add(Dense(2,activation=\"softmax\"))\n",
        "model.summary()"
      ],
      "execution_count": 82,
      "outputs": [
        {
          "output_type": "stream",
          "text": [
            "Model: \"sequential_5\"\n",
            "_________________________________________________________________\n",
            "Layer (type)                 Output Shape              Param #   \n",
            "=================================================================\n",
            "conv2d_15 (Conv2D)           (None, 224, 224, 16)      208       \n",
            "_________________________________________________________________\n",
            "max_pooling2d_15 (MaxPooling (None, 112, 112, 16)      0         \n",
            "_________________________________________________________________\n",
            "conv2d_16 (Conv2D)           (None, 112, 112, 32)      2080      \n",
            "_________________________________________________________________\n",
            "max_pooling2d_16 (MaxPooling (None, 56, 56, 32)        0         \n",
            "_________________________________________________________________\n",
            "conv2d_17 (Conv2D)           (None, 56, 56, 64)        8256      \n",
            "_________________________________________________________________\n",
            "max_pooling2d_17 (MaxPooling (None, 28, 28, 64)        0         \n",
            "_________________________________________________________________\n",
            "flatten_11 (Flatten)         (None, 50176)             0         \n",
            "_________________________________________________________________\n",
            "dense_15 (Dense)             (None, 500)               25088500  \n",
            "_________________________________________________________________\n",
            "dense_16 (Dense)             (None, 2)                 1002      \n",
            "=================================================================\n",
            "Total params: 25,100,046\n",
            "Trainable params: 25,100,046\n",
            "Non-trainable params: 0\n",
            "_________________________________________________________________\n"
          ],
          "name": "stdout"
        }
      ]
    },
    {
      "cell_type": "code",
      "metadata": {
        "id": "RrGaXd1ANr85"
      },
      "source": [
        "# tell the model what cost and optimization method to use\n",
        "model.compile(\n",
        "  loss='categorical_crossentropy',\n",
        "  optimizer='adam',\n",
        "  metrics=['accuracy']\n",
        ")\n"
      ],
      "execution_count": 83,
      "outputs": []
    },
    {
      "cell_type": "code",
      "metadata": {
        "id": "NwMcxZZsNr85"
      },
      "source": [
        "# Use the Image Data Generator to import the images from the dataset\n",
        "from tensorflow.keras.preprocessing.image import ImageDataGenerator\n",
        "\n",
        "train_datagen = ImageDataGenerator(rescale = 1./255,\n",
        "                                   shear_range = 0.2,\n",
        "                                   zoom_range = 0.2,\n",
        "                                   horizontal_flip = True)\n",
        "\n",
        "test_datagen = ImageDataGenerator(rescale = 1./255)"
      ],
      "execution_count": 84,
      "outputs": []
    },
    {
      "cell_type": "code",
      "metadata": {
        "colab": {
          "base_uri": "https://localhost:8080/"
        },
        "id": "GdfO3Nv4Nr86",
        "outputId": "0d90cf06-e90e-4f53-ddc9-e097e910f11c"
      },
      "source": [
        "# Make sure you provide the same target size as initialied for the image size\n",
        "training_set = train_datagen.flow_from_directory(\"/content/drive/MyDrive/Dataset/Train\",\n",
        "                                                 target_size = (224, 224),\n",
        "                                                 batch_size = 32,\n",
        "                                                 class_mode = 'categorical')"
      ],
      "execution_count": 85,
      "outputs": [
        {
          "output_type": "stream",
          "text": [
            "Found 416 images belonging to 2 classes.\n"
          ],
          "name": "stdout"
        }
      ]
    },
    {
      "cell_type": "code",
      "metadata": {
        "id": "tV6yS6U1Nr86",
        "colab": {
          "base_uri": "https://localhost:8080/"
        },
        "outputId": "214d36f2-4861-468d-a476-0ce2d9dc6723"
      },
      "source": [
        "training_set"
      ],
      "execution_count": 86,
      "outputs": [
        {
          "output_type": "execute_result",
          "data": {
            "text/plain": [
              "<tensorflow.python.keras.preprocessing.image.DirectoryIterator at 0x7f2372853ed0>"
            ]
          },
          "metadata": {
            "tags": []
          },
          "execution_count": 86
        }
      ]
    },
    {
      "cell_type": "code",
      "metadata": {
        "id": "47moVrKDNr87",
        "colab": {
          "base_uri": "https://localhost:8080/"
        },
        "outputId": "6e9264ed-0284-4840-daca-d6c579fcc54b"
      },
      "source": [
        "test_set = test_datagen.flow_from_directory('/content/drive/MyDrive/Dataset/Test',\n",
        "                                            target_size = (224, 224),\n",
        "                                            batch_size = 32,\n",
        "                                            class_mode = 'categorical')"
      ],
      "execution_count": 87,
      "outputs": [
        {
          "output_type": "stream",
          "text": [
            "Found 134 images belonging to 2 classes.\n"
          ],
          "name": "stdout"
        }
      ]
    },
    {
      "cell_type": "code",
      "metadata": {
        "scrolled": true,
        "id": "aYlTNAcaNr87",
        "colab": {
          "base_uri": "https://localhost:8080/"
        },
        "outputId": "c25234bb-f783-41ec-c7f9-a647c73d615f"
      },
      "source": [
        "# fit the model\n",
        "# Run the cell. It will take some time to execute\n",
        "r = model.fit_generator(\n",
        "  training_set,\n",
        "  validation_data=test_set,\n",
        "  epochs=50,\n",
        "  steps_per_epoch=len(training_set),\n",
        "  validation_steps=len(test_set)\n",
        ")"
      ],
      "execution_count": 88,
      "outputs": [
        {
          "output_type": "stream",
          "text": [
            "/usr/local/lib/python3.7/dist-packages/tensorflow/python/keras/engine/training.py:1940: UserWarning: `Model.fit_generator` is deprecated and will be removed in a future version. Please use `Model.fit`, which supports generators.\n",
            "  warnings.warn('`Model.fit_generator` is deprecated and '\n"
          ],
          "name": "stderr"
        },
        {
          "output_type": "stream",
          "text": [
            "Epoch 1/50\n",
            "13/13 [==============================] - 112s 9s/step - loss: 2.0573 - accuracy: 0.4928 - val_loss: 0.6430 - val_accuracy: 0.6791\n",
            "Epoch 2/50\n",
            "13/13 [==============================] - 22s 2s/step - loss: 0.6806 - accuracy: 0.5841 - val_loss: 0.7258 - val_accuracy: 0.2836\n",
            "Epoch 3/50\n",
            "13/13 [==============================] - 22s 2s/step - loss: 0.6303 - accuracy: 0.6202 - val_loss: 0.9126 - val_accuracy: 0.3209\n",
            "Epoch 4/50\n",
            "13/13 [==============================] - 22s 2s/step - loss: 0.5724 - accuracy: 0.6827 - val_loss: 0.8095 - val_accuracy: 0.3284\n",
            "Epoch 5/50\n",
            "13/13 [==============================] - 22s 2s/step - loss: 0.5541 - accuracy: 0.6971 - val_loss: 0.8842 - val_accuracy: 0.3284\n",
            "Epoch 6/50\n",
            "13/13 [==============================] - 22s 2s/step - loss: 0.5270 - accuracy: 0.7428 - val_loss: 0.8314 - val_accuracy: 0.4030\n",
            "Epoch 7/50\n",
            "13/13 [==============================] - 22s 2s/step - loss: 0.4798 - accuracy: 0.7332 - val_loss: 1.0093 - val_accuracy: 0.3284\n",
            "Epoch 8/50\n",
            "13/13 [==============================] - 22s 2s/step - loss: 0.4742 - accuracy: 0.7548 - val_loss: 0.8340 - val_accuracy: 0.4104\n",
            "Epoch 9/50\n",
            "13/13 [==============================] - 22s 2s/step - loss: 0.4374 - accuracy: 0.7909 - val_loss: 0.8549 - val_accuracy: 0.3881\n",
            "Epoch 10/50\n",
            "13/13 [==============================] - 22s 2s/step - loss: 0.4004 - accuracy: 0.7885 - val_loss: 0.8617 - val_accuracy: 0.4254\n",
            "Epoch 11/50\n",
            "13/13 [==============================] - 22s 2s/step - loss: 0.3555 - accuracy: 0.8606 - val_loss: 0.8042 - val_accuracy: 0.5000\n",
            "Epoch 12/50\n",
            "13/13 [==============================] - 22s 2s/step - loss: 0.3409 - accuracy: 0.8317 - val_loss: 0.9177 - val_accuracy: 0.4776\n",
            "Epoch 13/50\n",
            "13/13 [==============================] - 22s 2s/step - loss: 0.3480 - accuracy: 0.8654 - val_loss: 0.5831 - val_accuracy: 0.6567\n",
            "Epoch 14/50\n",
            "13/13 [==============================] - 22s 2s/step - loss: 0.2465 - accuracy: 0.8990 - val_loss: 0.5820 - val_accuracy: 0.6866\n",
            "Epoch 15/50\n",
            "13/13 [==============================] - 22s 2s/step - loss: 0.2117 - accuracy: 0.9255 - val_loss: 0.5091 - val_accuracy: 0.7313\n",
            "Epoch 16/50\n",
            "13/13 [==============================] - 22s 2s/step - loss: 0.2387 - accuracy: 0.9183 - val_loss: 0.4629 - val_accuracy: 0.7463\n",
            "Epoch 17/50\n",
            "13/13 [==============================] - 22s 2s/step - loss: 0.1729 - accuracy: 0.9447 - val_loss: 0.4342 - val_accuracy: 0.8060\n",
            "Epoch 18/50\n",
            "13/13 [==============================] - 22s 2s/step - loss: 0.1778 - accuracy: 0.9447 - val_loss: 0.3159 - val_accuracy: 0.8582\n",
            "Epoch 19/50\n",
            "13/13 [==============================] - 22s 2s/step - loss: 0.1690 - accuracy: 0.9471 - val_loss: 0.3013 - val_accuracy: 0.8657\n",
            "Epoch 20/50\n",
            "13/13 [==============================] - 22s 2s/step - loss: 0.1249 - accuracy: 0.9615 - val_loss: 0.4347 - val_accuracy: 0.8134\n",
            "Epoch 21/50\n",
            "13/13 [==============================] - 22s 2s/step - loss: 0.1003 - accuracy: 0.9688 - val_loss: 0.4123 - val_accuracy: 0.8284\n",
            "Epoch 22/50\n",
            "13/13 [==============================] - 22s 2s/step - loss: 0.1271 - accuracy: 0.9615 - val_loss: 0.2526 - val_accuracy: 0.8955\n",
            "Epoch 23/50\n",
            "13/13 [==============================] - 22s 2s/step - loss: 0.1148 - accuracy: 0.9543 - val_loss: 0.6031 - val_accuracy: 0.7836\n",
            "Epoch 24/50\n",
            "13/13 [==============================] - 22s 2s/step - loss: 0.1256 - accuracy: 0.9615 - val_loss: 0.4003 - val_accuracy: 0.8284\n",
            "Epoch 25/50\n",
            "13/13 [==============================] - 22s 2s/step - loss: 0.1007 - accuracy: 0.9615 - val_loss: 0.2555 - val_accuracy: 0.9030\n",
            "Epoch 26/50\n",
            "13/13 [==============================] - 22s 2s/step - loss: 0.1018 - accuracy: 0.9784 - val_loss: 0.4917 - val_accuracy: 0.8284\n",
            "Epoch 27/50\n",
            "13/13 [==============================] - 22s 2s/step - loss: 0.0951 - accuracy: 0.9712 - val_loss: 0.2184 - val_accuracy: 0.9104\n",
            "Epoch 28/50\n",
            "13/13 [==============================] - 22s 2s/step - loss: 0.0912 - accuracy: 0.9736 - val_loss: 0.3002 - val_accuracy: 0.8731\n",
            "Epoch 29/50\n",
            "13/13 [==============================] - 22s 2s/step - loss: 0.0693 - accuracy: 0.9904 - val_loss: 0.2660 - val_accuracy: 0.9030\n",
            "Epoch 30/50\n",
            "13/13 [==============================] - 22s 2s/step - loss: 0.0885 - accuracy: 0.9712 - val_loss: 0.2918 - val_accuracy: 0.8881\n",
            "Epoch 31/50\n",
            "13/13 [==============================] - 22s 2s/step - loss: 0.0684 - accuracy: 0.9832 - val_loss: 0.3722 - val_accuracy: 0.8657\n",
            "Epoch 32/50\n",
            "13/13 [==============================] - 22s 2s/step - loss: 0.0629 - accuracy: 0.9856 - val_loss: 0.2640 - val_accuracy: 0.9179\n",
            "Epoch 33/50\n",
            "13/13 [==============================] - 22s 2s/step - loss: 0.0886 - accuracy: 0.9736 - val_loss: 0.3922 - val_accuracy: 0.8657\n",
            "Epoch 34/50\n",
            "13/13 [==============================] - 22s 2s/step - loss: 0.0966 - accuracy: 0.9736 - val_loss: 0.2480 - val_accuracy: 0.8731\n",
            "Epoch 35/50\n",
            "13/13 [==============================] - 22s 2s/step - loss: 0.0663 - accuracy: 0.9832 - val_loss: 0.2699 - val_accuracy: 0.8881\n",
            "Epoch 36/50\n",
            "13/13 [==============================] - 22s 2s/step - loss: 0.1012 - accuracy: 0.9712 - val_loss: 0.3046 - val_accuracy: 0.8806\n",
            "Epoch 37/50\n",
            "13/13 [==============================] - 22s 2s/step - loss: 0.0591 - accuracy: 0.9904 - val_loss: 0.3590 - val_accuracy: 0.8806\n",
            "Epoch 38/50\n",
            "13/13 [==============================] - 22s 2s/step - loss: 0.0698 - accuracy: 0.9808 - val_loss: 0.2791 - val_accuracy: 0.8955\n",
            "Epoch 39/50\n",
            "13/13 [==============================] - 22s 2s/step - loss: 0.0709 - accuracy: 0.9784 - val_loss: 0.2279 - val_accuracy: 0.9179\n",
            "Epoch 40/50\n",
            "13/13 [==============================] - 22s 2s/step - loss: 0.0525 - accuracy: 0.9928 - val_loss: 0.3232 - val_accuracy: 0.8955\n",
            "Epoch 41/50\n",
            "13/13 [==============================] - 22s 2s/step - loss: 0.0564 - accuracy: 0.9832 - val_loss: 0.2467 - val_accuracy: 0.9030\n",
            "Epoch 42/50\n",
            "13/13 [==============================] - 22s 2s/step - loss: 0.0393 - accuracy: 0.9952 - val_loss: 0.2590 - val_accuracy: 0.9104\n",
            "Epoch 43/50\n",
            "13/13 [==============================] - 22s 2s/step - loss: 0.0530 - accuracy: 0.9904 - val_loss: 0.5491 - val_accuracy: 0.8657\n",
            "Epoch 44/50\n",
            "13/13 [==============================] - 22s 2s/step - loss: 0.0560 - accuracy: 0.9760 - val_loss: 0.1865 - val_accuracy: 0.9179\n",
            "Epoch 45/50\n",
            "13/13 [==============================] - 22s 2s/step - loss: 0.0334 - accuracy: 0.9928 - val_loss: 0.3785 - val_accuracy: 0.8881\n",
            "Epoch 46/50\n",
            "13/13 [==============================] - 22s 2s/step - loss: 0.0442 - accuracy: 0.9880 - val_loss: 0.2054 - val_accuracy: 0.9254\n",
            "Epoch 47/50\n",
            "13/13 [==============================] - 22s 2s/step - loss: 0.0306 - accuracy: 0.9952 - val_loss: 0.2250 - val_accuracy: 0.9179\n",
            "Epoch 48/50\n",
            "13/13 [==============================] - 22s 2s/step - loss: 0.0346 - accuracy: 0.9904 - val_loss: 0.3551 - val_accuracy: 0.8881\n",
            "Epoch 49/50\n",
            "13/13 [==============================] - 22s 2s/step - loss: 0.0554 - accuracy: 0.9808 - val_loss: 0.2349 - val_accuracy: 0.9179\n",
            "Epoch 50/50\n",
            "13/13 [==============================] - 22s 2s/step - loss: 0.0415 - accuracy: 0.9904 - val_loss: 0.3506 - val_accuracy: 0.8881\n"
          ],
          "name": "stdout"
        }
      ]
    },
    {
      "cell_type": "code",
      "metadata": {
        "id": "LpRcFgSwNr88"
      },
      "source": [
        ""
      ],
      "execution_count": 88,
      "outputs": []
    },
    {
      "cell_type": "code",
      "metadata": {
        "id": "DjZOQFpQNr88",
        "colab": {
          "base_uri": "https://localhost:8080/",
          "height": 529
        },
        "outputId": "2f42a07c-4edd-4508-caec-6a522030f37a"
      },
      "source": [
        "# plot the loss\n",
        "plt.plot(r.history['loss'], label='train loss')\n",
        "plt.plot(r.history['val_loss'], label='val loss')\n",
        "plt.legend()\n",
        "plt.show()\n",
        "plt.savefig('LossVal_loss')\n",
        "\n",
        "# plot the accuracy\n",
        "plt.plot(r.history['accuracy'], label='train acc')\n",
        "plt.plot(r.history['val_accuracy'], label='val acc')\n",
        "plt.legend()\n",
        "plt.show()\n",
        "plt.savefig('AccVal_acc')"
      ],
      "execution_count": 89,
      "outputs": [
        {
          "output_type": "display_data",
          "data": {
            "image/png": "[encoded data removed]",
            "text/plain": [
              "<Figure size 432x288 with 1 Axes>"
            ]
          },
          "metadata": {
            "tags": [],
            "needs_background": "light"
          }
        },
        {
          "output_type": "display_data",
          "data": {
            "image/png": "[encoded data removed]",
            "text/plain": [
              "<Figure size 432x288 with 1 Axes>"
            ]
          },
          "metadata": {
            "tags": [],
            "needs_background": "light"
          }
        },
        {
          "output_type": "display_data",
          "data": {
            "text/plain": [
              "<Figure size 432x288 with 0 Axes>"
            ]
          },
          "metadata": {
            "tags": []
          }
        }
      ]
    },
    {
      "cell_type": "code",
      "metadata": {
        "id": "952jjFQtNr89"
      },
      "source": [
        "# save it as a h5 file\n",
        "\n",
        "\n",
        "from tensorflow.keras.models import load_model\n",
        "\n",
        "model.save('model_vgg19.h5')"
      ],
      "execution_count": 90,
      "outputs": []
    },
    {
      "cell_type": "code",
      "metadata": {
        "id": "hYsYDO0MNr89"
      },
      "source": [
        ""
      ],
      "execution_count": 90,
      "outputs": []
    },
    {
      "cell_type": "code",
      "metadata": {
        "id": "auSI5UA7Nr89"
      },
      "source": [
        "\n",
        "y_pred = model.predict(test_set)\n"
      ],
      "execution_count": 91,
      "outputs": []
    },
    {
      "cell_type": "code",
      "metadata": {
        "id": "mfIDE8W_Nr89",
        "colab": {
          "base_uri": "https://localhost:8080/"
        },
        "outputId": "a19f0db0-e286-4438-a1e1-df71460f68d7"
      },
      "source": [
        "y_pred"
      ],
      "execution_count": 92,
      "outputs": [
        {
          "output_type": "execute_result",
          "data": {
            "text/plain": [
              "array([[9.99998927e-01, 1.07442816e-06],\n",
              "       [8.81202577e-04, 9.99118745e-01],\n",
              "       [1.36103019e-01, 8.63896966e-01],\n",
              "       [4.04910912e-04, 9.99595106e-01],\n",
              "       [9.98061478e-01, 1.93852419e-03],\n",
              "       [1.03383204e-02, 9.89661694e-01],\n",
              "       [9.46436465e-01, 5.35634868e-02],\n",
              "       [9.99997973e-01, 2.00609793e-06],\n",
              "       [1.00000000e+00, 5.80897127e-22],\n",
              "       [4.57655964e-03, 9.95423496e-01],\n",
              "       [8.38614162e-03, 9.91613865e-01],\n",
              "       [9.99999762e-01, 2.74160897e-07],\n",
              "       [9.99881029e-01, 1.19007134e-04],\n",
              "       [1.00000000e+00, 1.57968191e-12],\n",
              "       [1.25957979e-02, 9.87404227e-01],\n",
              "       [9.99998093e-01, 1.92309949e-06],\n",
              "       [9.99833822e-01, 1.66109254e-04],\n",
              "       [2.25962568e-02, 9.77403760e-01],\n",
              "       [2.37093191e-03, 9.97629106e-01],\n",
              "       [2.70612631e-03, 9.97293890e-01],\n",
              "       [1.00000000e+00, 1.96975503e-09],\n",
              "       [4.60564166e-01, 5.39435804e-01],\n",
              "       [9.99757826e-01, 2.42124544e-04],\n",
              "       [9.98452425e-01, 1.54755753e-03],\n",
              "       [9.99927163e-01, 7.28261366e-05],\n",
              "       [9.99944925e-01, 5.50359255e-05],\n",
              "       [1.00000000e+00, 9.86477070e-17],\n",
              "       [9.99983668e-01, 1.63032018e-05],\n",
              "       [9.99999642e-01, 3.04796799e-07],\n",
              "       [9.99996185e-01, 3.82848839e-06],\n",
              "       [9.99999881e-01, 9.56718011e-08],\n",
              "       [9.99939919e-01, 6.00294406e-05],\n",
              "       [6.69600546e-01, 3.30399483e-01],\n",
              "       [9.40441096e-04, 9.99059618e-01],\n",
              "       [3.37883532e-02, 9.66211677e-01],\n",
              "       [1.90413813e-03, 9.98095810e-01],\n",
              "       [1.00000000e+00, 1.51431557e-21],\n",
              "       [3.11302751e-01, 6.88697278e-01],\n",
              "       [2.44265005e-01, 7.55734921e-01],\n",
              "       [9.99992013e-01, 8.03587682e-06],\n",
              "       [9.99950886e-01, 4.91171522e-05],\n",
              "       [2.63280305e-03, 9.97367203e-01],\n",
              "       [9.99984741e-01, 1.52506118e-05],\n",
              "       [8.60422403e-02, 9.13957775e-01],\n",
              "       [9.99335706e-01, 6.64245279e-04],\n",
              "       [9.98938739e-01, 1.06130703e-03],\n",
              "       [1.00000000e+00, 5.20748566e-22],\n",
              "       [9.99999046e-01, 9.60183911e-07],\n",
              "       [9.99981284e-01, 1.86676007e-05],\n",
              "       [1.00000000e+00, 1.77332877e-12],\n",
              "       [1.00000000e+00, 2.90071100e-09],\n",
              "       [8.02726671e-03, 9.91972804e-01],\n",
              "       [1.00000000e+00, 2.01477572e-08],\n",
              "       [9.99947786e-01, 5.22657283e-05],\n",
              "       [1.00000000e+00, 1.42997220e-14],\n",
              "       [9.99952674e-01, 4.73740402e-05],\n",
              "       [6.64207572e-03, 9.93357956e-01],\n",
              "       [9.99997854e-01, 2.09931090e-06],\n",
              "       [1.71835259e-01, 8.28164697e-01],\n",
              "       [9.99997497e-01, 2.50829089e-06],\n",
              "       [9.99999523e-01, 4.89278023e-07],\n",
              "       [2.88765281e-02, 9.71123457e-01],\n",
              "       [3.00904989e-01, 6.99095011e-01],\n",
              "       [1.00000000e+00, 1.54958823e-13],\n",
              "       [4.84336354e-03, 9.95156586e-01],\n",
              "       [9.54392646e-03, 9.90456045e-01],\n",
              "       [9.99863029e-01, 1.36922579e-04],\n",
              "       [6.72464538e-03, 9.93275404e-01],\n",
              "       [9.87605572e-01, 1.23944860e-02],\n",
              "       [9.99825060e-01, 1.74913366e-04],\n",
              "       [9.99904275e-01, 9.57126394e-05],\n",
              "       [9.99999881e-01, 1.62460083e-07],\n",
              "       [1.00000000e+00, 1.15097834e-10],\n",
              "       [2.26706322e-02, 9.77329433e-01],\n",
              "       [1.03678387e-02, 9.89632130e-01],\n",
              "       [3.85164423e-03, 9.96148348e-01],\n",
              "       [3.56487301e-03, 9.96435165e-01],\n",
              "       [9.98579502e-01, 1.42048427e-03],\n",
              "       [5.86899603e-03, 9.94131029e-01],\n",
              "       [1.92061737e-02, 9.80793834e-01],\n",
              "       [1.00000000e+00, 2.09917914e-08],\n",
              "       [5.25238970e-03, 9.94747579e-01],\n",
              "       [5.08463755e-03, 9.94915366e-01],\n",
              "       [9.41054139e-04, 9.99058902e-01],\n",
              "       [9.99995232e-01, 4.81745792e-06],\n",
              "       [1.03946794e-02, 9.89605308e-01],\n",
              "       [9.99999285e-01, 7.35473066e-07],\n",
              "       [9.99990463e-01, 9.58654437e-06],\n",
              "       [2.64315475e-02, 9.73568380e-01],\n",
              "       [8.27798061e-03, 9.91722047e-01],\n",
              "       [1.00000000e+00, 1.62910329e-22],\n",
              "       [2.69491859e-02, 9.73050833e-01],\n",
              "       [2.04774961e-01, 7.95225024e-01],\n",
              "       [9.47862089e-01, 5.21379337e-02],\n",
              "       [4.80521947e-01, 5.19478083e-01],\n",
              "       [4.36459258e-02, 9.56354082e-01],\n",
              "       [9.99751031e-01, 2.48910248e-04],\n",
              "       [1.00000000e+00, 2.76100742e-09],\n",
              "       [1.00000000e+00, 1.85297044e-09],\n",
              "       [7.77894482e-02, 9.22210574e-01],\n",
              "       [2.26789061e-03, 9.97732043e-01],\n",
              "       [4.81401151e-03, 9.95186031e-01],\n",
              "       [9.99981403e-01, 1.85989575e-05],\n",
              "       [9.99999881e-01, 8.06526117e-08],\n",
              "       [6.98132347e-03, 9.93018687e-01],\n",
              "       [3.13759991e-03, 9.96862411e-01],\n",
              "       [9.99999881e-01, 1.15781546e-07],\n",
              "       [9.99945045e-01, 5.50009318e-05],\n",
              "       [7.52288674e-04, 9.99247789e-01],\n",
              "       [9.99999166e-01, 7.99321185e-07],\n",
              "       [3.99601310e-02, 9.60039914e-01],\n",
              "       [2.28717108e-03, 9.97712851e-01],\n",
              "       [9.99999166e-01, 7.76398736e-07],\n",
              "       [9.99975443e-01, 2.46122745e-05],\n",
              "       [1.00000000e+00, 3.83466831e-13],\n",
              "       [9.75076675e-01, 2.49233302e-02],\n",
              "       [2.17991648e-03, 9.97820139e-01],\n",
              "       [9.99999762e-01, 2.78993753e-07],\n",
              "       [7.37622241e-03, 9.92623806e-01],\n",
              "       [1.00000000e+00, 8.61155522e-11],\n",
              "       [1.36827648e-01, 8.63172412e-01],\n",
              "       [2.19233986e-03, 9.97807682e-01],\n",
              "       [9.99956608e-01, 4.33786117e-05],\n",
              "       [1.00000000e+00, 8.42440873e-09],\n",
              "       [5.20696864e-03, 9.94792998e-01],\n",
              "       [4.43558358e-02, 9.55644131e-01],\n",
              "       [1.00000000e+00, 7.71083878e-27],\n",
              "       [1.00000000e+00, 2.53748880e-08],\n",
              "       [1.00000000e+00, 8.85902907e-10],\n",
              "       [9.99990344e-01, 9.60870329e-06],\n",
              "       [8.49149898e-02, 9.15085018e-01],\n",
              "       [9.99999285e-01, 6.66975154e-07],\n",
              "       [1.00000000e+00, 7.53920676e-11],\n",
              "       [2.17611976e-02, 9.78238821e-01]], dtype=float32)"
            ]
          },
          "metadata": {
            "tags": []
          },
          "execution_count": 92
        }
      ]
    },
    {
      "cell_type": "code",
      "metadata": {
        "id": "v5d1F_adNr8-"
      },
      "source": [
        "import numpy as np\n",
        "y_pred = np.argmax(y_pred, axis=1)"
      ],
      "execution_count": 93,
      "outputs": []
    },
    {
      "cell_type": "code",
      "metadata": {
        "id": "09bUp6B6Nr8-",
        "colab": {
          "base_uri": "https://localhost:8080/"
        },
        "outputId": "16545e48-2672-46c5-ce90-c9c084156db2"
      },
      "source": [
        "y_pred"
      ],
      "execution_count": 94,
      "outputs": [
        {
          "output_type": "execute_result",
          "data": {
            "text/plain": [
              "array([0, 1, 1, 1, 0, 1, 0, 0, 0, 1, 1, 0, 0, 0, 1, 0, 0, 1, 1, 1, 0, 1,\n",
              "       0, 0, 0, 0, 0, 0, 0, 0, 0, 0, 0, 1, 1, 1, 0, 1, 1, 0, 0, 1, 0, 1,\n",
              "       0, 0, 0, 0, 0, 0, 0, 1, 0, 0, 0, 0, 1, 0, 1, 0, 0, 1, 1, 0, 1, 1,\n",
              "       0, 1, 0, 0, 0, 0, 0, 1, 1, 1, 1, 0, 1, 1, 0, 1, 1, 1, 0, 1, 0, 0,\n",
              "       1, 1, 0, 1, 1, 0, 1, 1, 0, 0, 0, 1, 1, 1, 0, 0, 1, 1, 0, 0, 1, 0,\n",
              "       1, 1, 0, 0, 0, 0, 1, 0, 1, 0, 1, 1, 0, 0, 1, 1, 0, 0, 0, 0, 1, 0,\n",
              "       0, 1])"
            ]
          },
          "metadata": {
            "tags": []
          },
          "execution_count": 94
        }
      ]
    },
    {
      "cell_type": "code",
      "metadata": {
        "id": "GPvm_f8cNr8_"
      },
      "source": [
        ""
      ],
      "execution_count": 94,
      "outputs": []
    },
    {
      "cell_type": "code",
      "metadata": {
        "id": "8tjSbEZSNr8_"
      },
      "source": [
        "from tensorflow.keras.models import load_model\n",
        "from tensorflow.keras.preprocessing import image"
      ],
      "execution_count": 95,
      "outputs": []
    },
    {
      "cell_type": "code",
      "metadata": {
        "id": "bomnD2FYNr8_"
      },
      "source": [
        "model=load_model('model_vgg19.h5')"
      ],
      "execution_count": 96,
      "outputs": []
    },
    {
      "cell_type": "code",
      "metadata": {
        "id": "2jfGcbyGNr8_"
      },
      "source": [
        ""
      ],
      "execution_count": 96,
      "outputs": []
    },
    {
      "cell_type": "code",
      "metadata": {
        "id": "trI1H5QeNr8_"
      },
      "source": [
        "img=image.load_img('/content/drive/MyDrive/Dataset/Test/Uninfected/C3thin_original_IMG_20150608_162922_cell_191.png',target_size=(224,224))\n",
        "\n"
      ],
      "execution_count": 97,
      "outputs": []
    },
    {
      "cell_type": "code",
      "metadata": {
        "id": "fKqIZqkcNr8_",
        "colab": {
          "base_uri": "https://localhost:8080/"
        },
        "outputId": "9d7c9955-e02e-403a-fc04-e26339e290a9"
      },
      "source": [
        "x=image.img_to_array(img)\n",
        "x"
      ],
      "execution_count": 98,
      "outputs": [
        {
          "output_type": "execute_result",
          "data": {
            "text/plain": [
              "array([[[0., 0., 0.],\n",
              "        [0., 0., 0.],\n",
              "        [0., 0., 0.],\n",
              "        ...,\n",
              "        [0., 0., 0.],\n",
              "        [0., 0., 0.],\n",
              "        [0., 0., 0.]],\n",
              "\n",
              "       [[0., 0., 0.],\n",
              "        [0., 0., 0.],\n",
              "        [0., 0., 0.],\n",
              "        ...,\n",
              "        [0., 0., 0.],\n",
              "        [0., 0., 0.],\n",
              "        [0., 0., 0.]],\n",
              "\n",
              "       [[0., 0., 0.],\n",
              "        [0., 0., 0.],\n",
              "        [0., 0., 0.],\n",
              "        ...,\n",
              "        [0., 0., 0.],\n",
              "        [0., 0., 0.],\n",
              "        [0., 0., 0.]],\n",
              "\n",
              "       ...,\n",
              "\n",
              "       [[0., 0., 0.],\n",
              "        [0., 0., 0.],\n",
              "        [0., 0., 0.],\n",
              "        ...,\n",
              "        [0., 0., 0.],\n",
              "        [0., 0., 0.],\n",
              "        [0., 0., 0.]],\n",
              "\n",
              "       [[0., 0., 0.],\n",
              "        [0., 0., 0.],\n",
              "        [0., 0., 0.],\n",
              "        ...,\n",
              "        [0., 0., 0.],\n",
              "        [0., 0., 0.],\n",
              "        [0., 0., 0.]],\n",
              "\n",
              "       [[0., 0., 0.],\n",
              "        [0., 0., 0.],\n",
              "        [0., 0., 0.],\n",
              "        ...,\n",
              "        [0., 0., 0.],\n",
              "        [0., 0., 0.],\n",
              "        [0., 0., 0.]]], dtype=float32)"
            ]
          },
          "metadata": {
            "tags": []
          },
          "execution_count": 98
        }
      ]
    },
    {
      "cell_type": "code",
      "metadata": {
        "id": "fhBGGOoMNr9A",
        "colab": {
          "base_uri": "https://localhost:8080/"
        },
        "outputId": "4db748f9-9791-4e95-e8b8-f849eb016820"
      },
      "source": [
        "x.shape"
      ],
      "execution_count": 99,
      "outputs": [
        {
          "output_type": "execute_result",
          "data": {
            "text/plain": [
              "(224, 224, 3)"
            ]
          },
          "metadata": {
            "tags": []
          },
          "execution_count": 99
        }
      ]
    },
    {
      "cell_type": "code",
      "metadata": {
        "id": "D-MFGzodNr9A"
      },
      "source": [
        "x=x/255"
      ],
      "execution_count": 100,
      "outputs": []
    },
    {
      "cell_type": "code",
      "metadata": {
        "id": "kmY0SfLPNr9A",
        "colab": {
          "base_uri": "https://localhost:8080/"
        },
        "outputId": "fd1a4118-a5fb-4f98-bdb2-d2597117c207"
      },
      "source": [
        "x=np.expand_dims(x,axis=0)\n",
        "img_data=preprocess_input(x)\n",
        "img_data.shape"
      ],
      "execution_count": 101,
      "outputs": [
        {
          "output_type": "execute_result",
          "data": {
            "text/plain": [
              "(1, 224, 224, 3)"
            ]
          },
          "metadata": {
            "tags": []
          },
          "execution_count": 101
        }
      ]
    },
    {
      "cell_type": "code",
      "metadata": {
        "id": "otKM-cAQNr9A",
        "colab": {
          "base_uri": "https://localhost:8080/"
        },
        "outputId": "8da72951-3a11-48dc-8ad5-9302e2bf6cb1"
      },
      "source": [
        "model.predict(img_data)"
      ],
      "execution_count": 102,
      "outputs": [
        {
          "output_type": "execute_result",
          "data": {
            "text/plain": [
              "array([[0., 1.]], dtype=float32)"
            ]
          },
          "metadata": {
            "tags": []
          },
          "execution_count": 102
        }
      ]
    },
    {
      "cell_type": "code",
      "metadata": {
        "id": "fRhb9GecNr9B"
      },
      "source": [
        "a=np.argmax(model.predict(img_data), axis=1)"
      ],
      "execution_count": 103,
      "outputs": []
    },
    {
      "cell_type": "code",
      "metadata": {
        "id": "e0f-hjqhNr9B",
        "colab": {
          "base_uri": "https://localhost:8080/"
        },
        "outputId": "7fa605b9-dfc8-42c7-a0e3-109266e05c2d"
      },
      "source": [
        "if(a==1):\n",
        "    print(\"Uninfected\")\n",
        "else:\n",
        "    print(\"Infected\")"
      ],
      "execution_count": 104,
      "outputs": [
        {
          "output_type": "stream",
          "text": [
            "Uninfected\n"
          ],
          "name": "stdout"
        }
      ]
    },
    {
      "cell_type": "code",
      "metadata": {
        "id": "NdQRug41Nr9C"
      },
      "source": [
        ""
      ],
      "execution_count": 104,
      "outputs": []
    },
    {
      "cell_type": "code",
      "metadata": {
        "id": "IljGHSe0Nr9C"
      },
      "source": [
        ""
      ],
      "execution_count": 104,
      "outputs": []
    }
  ]
}